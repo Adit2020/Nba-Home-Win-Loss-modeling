{
 "cells": [
  {
   "cell_type": "code",
   "execution_count": 12,
   "metadata": {},
   "outputs": [],
   "source": [
    "import pandas as pd\n",
    "import numpy as np\n",
    "from sklearn.model_selection import train_test_split\n",
    "from sklearn.preprocessing import StandardScaler\n",
    "from sklearn.metrics import classification_report\n",
    "import tensorflow as tf\n",
    "from tensorflow import keras\n",
    "from tensorflow.keras import layers\n"
   ]
  },
  {
   "cell_type": "code",
   "execution_count": 13,
   "metadata": {},
   "outputs": [],
   "source": [
    "# Load and clean data\n",
    "data = pd.read_csv('nbaHomeWinLossModelDataset.csv').drop(['Unnamed: 0'], axis=1)\n",
    "data = data.dropna()"
   ]
  },
  {
   "cell_type": "code",
   "execution_count": 14,
   "metadata": {},
   "outputs": [],
   "source": [
    "validation = data[data['SEASON'] == '2024-25']  # Predicting 2024-25 season\n",
    "modelData = data[data['SEASON'] != '2024-25'].sample(frac=1)  # Training on past seasons"
   ]
  },
  {
   "cell_type": "code",
   "execution_count": 15,
   "metadata": {},
   "outputs": [],
   "source": [
    "# Split into training (past seasons) and validation (2024-25 season)\n",
    "validation = data[data['SEASON'] == '2024-25']  # Predicting 2024-25 season\n",
    "modelData = data[data['SEASON'] != '2024-25'].sample(frac=1)  # Training on past seasons.\n",
    "\n",
    "# Define features and target variable\n",
    "X = modelData.drop(['HOME_W', 'SEASON'], axis=1)\n",
    "y = modelData['HOME_W']\n",
    "\n",
    "# Split into training and test sets\n",
    "X_train, X_test, y_train, y_test = train_test_split(X, y, test_size=0.33)\n",
    "\n",
    "# Standard Scaling\n",
    "scaler = StandardScaler()\n",
    "scaler.fit(X_train)\n",
    "X_train_scaled = scaler.transform(X_train)\n",
    "X_test_scaled = scaler.transform(X_test)"
   ]
  },
  {
   "cell_type": "code",
   "execution_count": 16,
   "metadata": {},
   "outputs": [
    {
     "name": "stderr",
     "output_type": "stream",
     "text": [
      "/Users/adityabhosale/Library/Python/3.9/lib/python/site-packages/keras/src/layers/core/dense.py:87: UserWarning: Do not pass an `input_shape`/`input_dim` argument to a layer. When using Sequential models, prefer using an `Input(shape)` object as the first layer in the model instead.\n",
      "  super().__init__(activity_regularizer=activity_regularizer, **kwargs)\n"
     ]
    }
   ],
   "source": [
    "# Build Neural Network Model\n",
    "model = keras.Sequential([\n",
    "    layers.Dense(64, activation='relu', input_shape=(X_train.shape[1],)),  # First hidden layer\n",
    "    layers.Dense(32, activation='relu'),  # Second hidden layer\n",
    "    layers.Dense(1, activation='sigmoid')  # Output layer (binary classification)\n",
    "])"
   ]
  },
  {
   "cell_type": "code",
   "execution_count": 17,
   "metadata": {},
   "outputs": [
    {
     "name": "stdout",
     "output_type": "stream",
     "text": [
      "Epoch 1/50\n",
      "\u001b[1m3676/3676\u001b[0m \u001b[32m━━━━━━━━━━━━━━━━━━━━\u001b[0m\u001b[37m\u001b[0m \u001b[1m3s\u001b[0m 494us/step - accuracy: 0.8750 - loss: 0.3056 - val_accuracy: 0.9223 - val_loss: 0.2234\n",
      "Epoch 2/50\n",
      "\u001b[1m3676/3676\u001b[0m \u001b[32m━━━━━━━━━━━━━━━━━━━━\u001b[0m\u001b[37m\u001b[0m \u001b[1m2s\u001b[0m 480us/step - accuracy: 0.9300 - loss: 0.2079 - val_accuracy: 0.9454 - val_loss: 0.1695\n",
      "Epoch 3/50\n",
      "\u001b[1m3676/3676\u001b[0m \u001b[32m━━━━━━━━━━━━━━━━━━━━\u001b[0m\u001b[37m\u001b[0m \u001b[1m2s\u001b[0m 478us/step - accuracy: 0.9510 - loss: 0.1620 - val_accuracy: 0.9582 - val_loss: 0.1427\n",
      "Epoch 4/50\n",
      "\u001b[1m3676/3676\u001b[0m \u001b[32m━━━━━━━━━━━━━━━━━━━━\u001b[0m\u001b[37m\u001b[0m \u001b[1m2s\u001b[0m 485us/step - accuracy: 0.9609 - loss: 0.1333 - val_accuracy: 0.9607 - val_loss: 0.1305\n",
      "Epoch 5/50\n",
      "\u001b[1m3676/3676\u001b[0m \u001b[32m━━━━━━━━━━━━━━━━━━━━\u001b[0m\u001b[37m\u001b[0m \u001b[1m2s\u001b[0m 484us/step - accuracy: 0.9633 - loss: 0.1200 - val_accuracy: 0.9641 - val_loss: 0.1194\n",
      "Epoch 6/50\n",
      "\u001b[1m3676/3676\u001b[0m \u001b[32m━━━━━━━━━━━━━━━━━━━━\u001b[0m\u001b[37m\u001b[0m \u001b[1m2s\u001b[0m 487us/step - accuracy: 0.9656 - loss: 0.1106 - val_accuracy: 0.9655 - val_loss: 0.1133\n",
      "Epoch 7/50\n",
      "\u001b[1m3676/3676\u001b[0m \u001b[32m━━━━━━━━━━━━━━━━━━━━\u001b[0m\u001b[37m\u001b[0m \u001b[1m2s\u001b[0m 499us/step - accuracy: 0.9685 - loss: 0.1017 - val_accuracy: 0.9685 - val_loss: 0.1042\n",
      "Epoch 8/50\n",
      "\u001b[1m3676/3676\u001b[0m \u001b[32m━━━━━━━━━━━━━━━━━━━━\u001b[0m\u001b[37m\u001b[0m \u001b[1m2s\u001b[0m 485us/step - accuracy: 0.9703 - loss: 0.0957 - val_accuracy: 0.9614 - val_loss: 0.1209\n",
      "Epoch 9/50\n",
      "\u001b[1m3676/3676\u001b[0m \u001b[32m━━━━━━━━━━━━━━━━━━━━\u001b[0m\u001b[37m\u001b[0m \u001b[1m2s\u001b[0m 486us/step - accuracy: 0.9723 - loss: 0.0917 - val_accuracy: 0.9702 - val_loss: 0.1015\n",
      "Epoch 10/50\n",
      "\u001b[1m3676/3676\u001b[0m \u001b[32m━━━━━━━━━━━━━━━━━━━━\u001b[0m\u001b[37m\u001b[0m \u001b[1m2s\u001b[0m 507us/step - accuracy: 0.9741 - loss: 0.0862 - val_accuracy: 0.9739 - val_loss: 0.0901\n",
      "Epoch 11/50\n",
      "\u001b[1m3676/3676\u001b[0m \u001b[32m━━━━━━━━━━━━━━━━━━━━\u001b[0m\u001b[37m\u001b[0m \u001b[1m2s\u001b[0m 479us/step - accuracy: 0.9755 - loss: 0.0817 - val_accuracy: 0.9702 - val_loss: 0.0977\n",
      "Epoch 12/50\n",
      "\u001b[1m3676/3676\u001b[0m \u001b[32m━━━━━━━━━━━━━━━━━━━━\u001b[0m\u001b[37m\u001b[0m \u001b[1m2s\u001b[0m 504us/step - accuracy: 0.9756 - loss: 0.0805 - val_accuracy: 0.9755 - val_loss: 0.0838\n",
      "Epoch 13/50\n",
      "\u001b[1m3676/3676\u001b[0m \u001b[32m━━━━━━━━━━━━━━━━━━━━\u001b[0m\u001b[37m\u001b[0m \u001b[1m2s\u001b[0m 481us/step - accuracy: 0.9775 - loss: 0.0765 - val_accuracy: 0.9746 - val_loss: 0.0867\n",
      "Epoch 14/50\n",
      "\u001b[1m3676/3676\u001b[0m \u001b[32m━━━━━━━━━━━━━━━━━━━━\u001b[0m\u001b[37m\u001b[0m \u001b[1m2s\u001b[0m 490us/step - accuracy: 0.9781 - loss: 0.0740 - val_accuracy: 0.9751 - val_loss: 0.0835\n",
      "Epoch 15/50\n",
      "\u001b[1m3676/3676\u001b[0m \u001b[32m━━━━━━━━━━━━━━━━━━━━\u001b[0m\u001b[37m\u001b[0m \u001b[1m2s\u001b[0m 484us/step - accuracy: 0.9785 - loss: 0.0722 - val_accuracy: 0.9764 - val_loss: 0.0839\n",
      "Epoch 16/50\n",
      "\u001b[1m3676/3676\u001b[0m \u001b[32m━━━━━━━━━━━━━━━━━━━━\u001b[0m\u001b[37m\u001b[0m \u001b[1m2s\u001b[0m 496us/step - accuracy: 0.9807 - loss: 0.0677 - val_accuracy: 0.9779 - val_loss: 0.0774\n",
      "Epoch 17/50\n",
      "\u001b[1m3676/3676\u001b[0m \u001b[32m━━━━━━━━━━━━━━━━━━━━\u001b[0m\u001b[37m\u001b[0m \u001b[1m2s\u001b[0m 510us/step - accuracy: 0.9814 - loss: 0.0658 - val_accuracy: 0.9766 - val_loss: 0.0862\n",
      "Epoch 18/50\n",
      "\u001b[1m3676/3676\u001b[0m \u001b[32m━━━━━━━━━━━━━━━━━━━━\u001b[0m\u001b[37m\u001b[0m \u001b[1m2s\u001b[0m 493us/step - accuracy: 0.9804 - loss: 0.0652 - val_accuracy: 0.9774 - val_loss: 0.0813\n",
      "Epoch 19/50\n",
      "\u001b[1m3676/3676\u001b[0m \u001b[32m━━━━━━━━━━━━━━━━━━━━\u001b[0m\u001b[37m\u001b[0m \u001b[1m2s\u001b[0m 519us/step - accuracy: 0.9816 - loss: 0.0651 - val_accuracy: 0.9783 - val_loss: 0.0785\n",
      "Epoch 20/50\n",
      "\u001b[1m3676/3676\u001b[0m \u001b[32m━━━━━━━━━━━━━━━━━━━━\u001b[0m\u001b[37m\u001b[0m \u001b[1m2s\u001b[0m 493us/step - accuracy: 0.9825 - loss: 0.0610 - val_accuracy: 0.9800 - val_loss: 0.0773\n",
      "Epoch 21/50\n",
      "\u001b[1m3676/3676\u001b[0m \u001b[32m━━━━━━━━━━━━━━━━━━━━\u001b[0m\u001b[37m\u001b[0m \u001b[1m2s\u001b[0m 508us/step - accuracy: 0.9828 - loss: 0.0614 - val_accuracy: 0.9799 - val_loss: 0.0769\n",
      "Epoch 22/50\n",
      "\u001b[1m3676/3676\u001b[0m \u001b[32m━━━━━━━━━━━━━━━━━━━━\u001b[0m\u001b[37m\u001b[0m \u001b[1m2s\u001b[0m 482us/step - accuracy: 0.9833 - loss: 0.0590 - val_accuracy: 0.9792 - val_loss: 0.0766\n",
      "Epoch 23/50\n",
      "\u001b[1m3676/3676\u001b[0m \u001b[32m━━━━━━━━━━━━━━━━━━━━\u001b[0m\u001b[37m\u001b[0m \u001b[1m2s\u001b[0m 616us/step - accuracy: 0.9827 - loss: 0.0615 - val_accuracy: 0.9789 - val_loss: 0.0766\n",
      "Epoch 24/50\n",
      "\u001b[1m3676/3676\u001b[0m \u001b[32m━━━━━━━━━━━━━━━━━━━━\u001b[0m\u001b[37m\u001b[0m \u001b[1m2s\u001b[0m 515us/step - accuracy: 0.9836 - loss: 0.0583 - val_accuracy: 0.9798 - val_loss: 0.0749\n",
      "Epoch 25/50\n",
      "\u001b[1m3676/3676\u001b[0m \u001b[32m━━━━━━━━━━━━━━━━━━━━\u001b[0m\u001b[37m\u001b[0m \u001b[1m2s\u001b[0m 516us/step - accuracy: 0.9843 - loss: 0.0559 - val_accuracy: 0.9791 - val_loss: 0.0796\n",
      "Epoch 26/50\n",
      "\u001b[1m3676/3676\u001b[0m \u001b[32m━━━━━━━━━━━━━━━━━━━━\u001b[0m\u001b[37m\u001b[0m \u001b[1m2s\u001b[0m 488us/step - accuracy: 0.9836 - loss: 0.0568 - val_accuracy: 0.9828 - val_loss: 0.0712\n",
      "Epoch 27/50\n",
      "\u001b[1m3676/3676\u001b[0m \u001b[32m━━━━━━━━━━━━━━━━━━━━\u001b[0m\u001b[37m\u001b[0m \u001b[1m2s\u001b[0m 484us/step - accuracy: 0.9842 - loss: 0.0554 - val_accuracy: 0.9827 - val_loss: 0.0712\n",
      "Epoch 28/50\n",
      "\u001b[1m3676/3676\u001b[0m \u001b[32m━━━━━━━━━━━━━━━━━━━━\u001b[0m\u001b[37m\u001b[0m \u001b[1m2s\u001b[0m 479us/step - accuracy: 0.9850 - loss: 0.0544 - val_accuracy: 0.9818 - val_loss: 0.0760\n",
      "Epoch 29/50\n",
      "\u001b[1m3676/3676\u001b[0m \u001b[32m━━━━━━━━━━━━━━━━━━━━\u001b[0m\u001b[37m\u001b[0m \u001b[1m2s\u001b[0m 487us/step - accuracy: 0.9853 - loss: 0.0522 - val_accuracy: 0.9775 - val_loss: 0.0851\n",
      "Epoch 30/50\n",
      "\u001b[1m3676/3676\u001b[0m \u001b[32m━━━━━━━━━━━━━━━━━━━━\u001b[0m\u001b[37m\u001b[0m \u001b[1m2s\u001b[0m 474us/step - accuracy: 0.9851 - loss: 0.0519 - val_accuracy: 0.9826 - val_loss: 0.0725\n",
      "Epoch 31/50\n",
      "\u001b[1m3676/3676\u001b[0m \u001b[32m━━━━━━━━━━━━━━━━━━━━\u001b[0m\u001b[37m\u001b[0m \u001b[1m2s\u001b[0m 475us/step - accuracy: 0.9855 - loss: 0.0505 - val_accuracy: 0.9823 - val_loss: 0.0730\n",
      "Epoch 32/50\n",
      "\u001b[1m3676/3676\u001b[0m \u001b[32m━━━━━━━━━━━━━━━━━━━━\u001b[0m\u001b[37m\u001b[0m \u001b[1m2s\u001b[0m 485us/step - accuracy: 0.9863 - loss: 0.0508 - val_accuracy: 0.9830 - val_loss: 0.0738\n",
      "Epoch 33/50\n",
      "\u001b[1m3676/3676\u001b[0m \u001b[32m━━━━━━━━━━━━━━━━━━━━\u001b[0m\u001b[37m\u001b[0m \u001b[1m2s\u001b[0m 555us/step - accuracy: 0.9858 - loss: 0.0513 - val_accuracy: 0.9848 - val_loss: 0.0694\n",
      "Epoch 34/50\n",
      "\u001b[1m3676/3676\u001b[0m \u001b[32m━━━━━━━━━━━━━━━━━━━━\u001b[0m\u001b[37m\u001b[0m \u001b[1m2s\u001b[0m 490us/step - accuracy: 0.9864 - loss: 0.0486 - val_accuracy: 0.9803 - val_loss: 0.0796\n",
      "Epoch 35/50\n",
      "\u001b[1m3676/3676\u001b[0m \u001b[32m━━━━━━━━━━━━━━━━━━━━\u001b[0m\u001b[37m\u001b[0m \u001b[1m2s\u001b[0m 480us/step - accuracy: 0.9857 - loss: 0.0502 - val_accuracy: 0.9828 - val_loss: 0.0716\n",
      "Epoch 36/50\n",
      "\u001b[1m3676/3676\u001b[0m \u001b[32m━━━━━━━━━━━━━━━━━━━━\u001b[0m\u001b[37m\u001b[0m \u001b[1m2s\u001b[0m 479us/step - accuracy: 0.9869 - loss: 0.0475 - val_accuracy: 0.9847 - val_loss: 0.0687\n",
      "Epoch 37/50\n",
      "\u001b[1m3676/3676\u001b[0m \u001b[32m━━━━━━━━━━━━━━━━━━━━\u001b[0m\u001b[37m\u001b[0m \u001b[1m2s\u001b[0m 473us/step - accuracy: 0.9877 - loss: 0.0457 - val_accuracy: 0.9840 - val_loss: 0.0691\n",
      "Epoch 38/50\n",
      "\u001b[1m3676/3676\u001b[0m \u001b[32m━━━━━━━━━━━━━━━━━━━━\u001b[0m\u001b[37m\u001b[0m \u001b[1m2s\u001b[0m 473us/step - accuracy: 0.9867 - loss: 0.0474 - val_accuracy: 0.9836 - val_loss: 0.0715\n",
      "Epoch 39/50\n",
      "\u001b[1m3676/3676\u001b[0m \u001b[32m━━━━━━━━━━━━━━━━━━━━\u001b[0m\u001b[37m\u001b[0m \u001b[1m2s\u001b[0m 471us/step - accuracy: 0.9869 - loss: 0.0468 - val_accuracy: 0.9844 - val_loss: 0.0710\n",
      "Epoch 40/50\n",
      "\u001b[1m3676/3676\u001b[0m \u001b[32m━━━━━━━━━━━━━━━━━━━━\u001b[0m\u001b[37m\u001b[0m \u001b[1m2s\u001b[0m 481us/step - accuracy: 0.9864 - loss: 0.0488 - val_accuracy: 0.9836 - val_loss: 0.0711\n",
      "Epoch 41/50\n",
      "\u001b[1m3676/3676\u001b[0m \u001b[32m━━━━━━━━━━━━━━━━━━━━\u001b[0m\u001b[37m\u001b[0m \u001b[1m2s\u001b[0m 482us/step - accuracy: 0.9876 - loss: 0.0456 - val_accuracy: 0.9833 - val_loss: 0.0714\n",
      "Epoch 42/50\n",
      "\u001b[1m3676/3676\u001b[0m \u001b[32m━━━━━━━━━━━━━━━━━━━━\u001b[0m\u001b[37m\u001b[0m \u001b[1m2s\u001b[0m 484us/step - accuracy: 0.9874 - loss: 0.0446 - val_accuracy: 0.9842 - val_loss: 0.0701\n",
      "Epoch 43/50\n",
      "\u001b[1m3676/3676\u001b[0m \u001b[32m━━━━━━━━━━━━━━━━━━━━\u001b[0m\u001b[37m\u001b[0m \u001b[1m2s\u001b[0m 477us/step - accuracy: 0.9874 - loss: 0.0450 - val_accuracy: 0.9839 - val_loss: 0.0703\n",
      "Epoch 44/50\n",
      "\u001b[1m3676/3676\u001b[0m \u001b[32m━━━━━━━━━━━━━━━━━━━━\u001b[0m\u001b[37m\u001b[0m \u001b[1m2s\u001b[0m 482us/step - accuracy: 0.9871 - loss: 0.0466 - val_accuracy: 0.9835 - val_loss: 0.0727\n",
      "Epoch 45/50\n",
      "\u001b[1m3676/3676\u001b[0m \u001b[32m━━━━━━━━━━━━━━━━━━━━\u001b[0m\u001b[37m\u001b[0m \u001b[1m2s\u001b[0m 492us/step - accuracy: 0.9875 - loss: 0.0437 - val_accuracy: 0.9852 - val_loss: 0.0706\n",
      "Epoch 46/50\n",
      "\u001b[1m3676/3676\u001b[0m \u001b[32m━━━━━━━━━━━━━━━━━━━━\u001b[0m\u001b[37m\u001b[0m \u001b[1m2s\u001b[0m 482us/step - accuracy: 0.9884 - loss: 0.0436 - val_accuracy: 0.9849 - val_loss: 0.0674\n",
      "Epoch 47/50\n",
      "\u001b[1m3676/3676\u001b[0m \u001b[32m━━━━━━━━━━━━━━━━━━━━\u001b[0m\u001b[37m\u001b[0m \u001b[1m2s\u001b[0m 494us/step - accuracy: 0.9873 - loss: 0.0453 - val_accuracy: 0.9838 - val_loss: 0.0724\n",
      "Epoch 48/50\n",
      "\u001b[1m3676/3676\u001b[0m \u001b[32m━━━━━━━━━━━━━━━━━━━━\u001b[0m\u001b[37m\u001b[0m \u001b[1m2s\u001b[0m 476us/step - accuracy: 0.9876 - loss: 0.0435 - val_accuracy: 0.9848 - val_loss: 0.0703\n",
      "Epoch 49/50\n",
      "\u001b[1m3676/3676\u001b[0m \u001b[32m━━━━━━━━━━━━━━━━━━━━\u001b[0m\u001b[37m\u001b[0m \u001b[1m2s\u001b[0m 495us/step - accuracy: 0.9877 - loss: 0.0436 - val_accuracy: 0.9836 - val_loss: 0.0722\n",
      "Epoch 50/50\n",
      "\u001b[1m3676/3676\u001b[0m \u001b[32m━━━━━━━━━━━━━━━━━━━━\u001b[0m\u001b[37m\u001b[0m \u001b[1m2s\u001b[0m 479us/step - accuracy: 0.9879 - loss: 0.0437 - val_accuracy: 0.9852 - val_loss: 0.0690\n",
      "\u001b[1m1811/1811\u001b[0m \u001b[32m━━━━━━━━━━━━━━━━━━━━\u001b[0m\u001b[37m\u001b[0m \u001b[1m1s\u001b[0m 281us/step - accuracy: 0.9852 - loss: 0.0698\n",
      "\n",
      "Neural Network Test Accuracy: 0.99\n"
     ]
    }
   ],
   "source": [
    "# Compile the Model\n",
    "model.compile(optimizer='adam', loss='binary_crossentropy', metrics=['accuracy'])\n",
    "# Train the Model\n",
    "model.fit(X_train_scaled, y_train, epochs=50, batch_size=32, validation_data=(X_test_scaled, y_test))\n",
    "\n",
    "# Evaluate the Model\n",
    "test_loss, test_acc = model.evaluate(X_test_scaled, y_test)\n",
    "print(f\"\\nNeural Network Test Accuracy: {test_acc:.2f}\")"
   ]
  },
  {
   "cell_type": "code",
   "execution_count": 18,
   "metadata": {},
   "outputs": [
    {
     "name": "stdout",
     "output_type": "stream",
     "text": [
      "\u001b[1m1811/1811\u001b[0m \u001b[32m━━━━━━━━━━━━━━━━━━━━\u001b[0m\u001b[37m\u001b[0m \u001b[1m0s\u001b[0m 201us/step\n",
      "              precision    recall  f1-score   support\n",
      "\n",
      "           0       0.99      0.98      0.98     26481\n",
      "           1       0.98      0.99      0.99     31446\n",
      "\n",
      "    accuracy                           0.99     57927\n",
      "   macro avg       0.99      0.98      0.99     57927\n",
      "weighted avg       0.99      0.99      0.99     57927\n",
      "\n"
     ]
    }
   ],
   "source": [
    "# Make Predictions on Test Set\n",
    "y_pred = (model.predict(X_test_scaled) > 0.5).astype(\"int32\")\n",
    "print(classification_report(y_test, y_pred))\n"
   ]
  },
  {
   "cell_type": "code",
   "execution_count": 20,
   "metadata": {},
   "outputs": [
    {
     "name": "stdout",
     "output_type": "stream",
     "text": [
      "\u001b[1m30/30\u001b[0m \u001b[32m━━━━━━━━━━━━━━━━━━━━\u001b[0m\u001b[37m\u001b[0m \u001b[1m0s\u001b[0m 547us/step\n",
      "              precision    recall  f1-score   support\n",
      "\n",
      "           0       0.53      0.50      0.51       422\n",
      "           1       0.61      0.64      0.63       526\n",
      "\n",
      "    accuracy                           0.58       948\n",
      "   macro avg       0.57      0.57      0.57       948\n",
      "weighted avg       0.57      0.58      0.58       948\n",
      "\n"
     ]
    }
   ],
   "source": [
    "# Transform Validation Set & Predict\n",
    "scaled_val_data = scaler.transform(validation.drop(['HOME_W', 'SEASON'], axis=1))\n",
    "y_val_pred = (model.predict(scaled_val_data) > 0.5).astype(\"int32\")\n",
    "print(classification_report(validation['HOME_W'], y_val_pred))"
   ]
  },
  {
   "cell_type": "code",
   "execution_count": 21,
   "metadata": {},
   "outputs": [
    {
     "name": "stdout",
     "output_type": "stream",
     "text": [
      "\u001b[1m30/30\u001b[0m \u001b[32m━━━━━━━━━━━━━━━━━━━━\u001b[0m\u001b[37m\u001b[0m \u001b[1m0s\u001b[0m 461us/step\n"
     ]
    },
    {
     "ename": "ValueError",
     "evalue": "Classification metrics can't handle a mix of binary and continuous targets",
     "output_type": "error",
     "traceback": [
      "\u001b[0;31m---------------------------------------------------------------------------\u001b[0m",
      "\u001b[0;31mValueError\u001b[0m                                Traceback (most recent call last)",
      "Cell \u001b[0;32mIn[21], line 5\u001b[0m\n\u001b[1;32m      2\u001b[0m y_pred \u001b[38;5;241m=\u001b[39m model\u001b[38;5;241m.\u001b[39mpredict(scaled_val_data)\n\u001b[1;32m      4\u001b[0m \u001b[38;5;66;03m# Print classification report for the validation set\u001b[39;00m\n\u001b[0;32m----> 5\u001b[0m \u001b[38;5;28mprint\u001b[39m(\u001b[43mclassification_report\u001b[49m\u001b[43m(\u001b[49m\u001b[43mvalidation\u001b[49m\u001b[43m[\u001b[49m\u001b[38;5;124;43m'\u001b[39;49m\u001b[38;5;124;43mHOME_W\u001b[39;49m\u001b[38;5;124;43m'\u001b[39;49m\u001b[43m]\u001b[49m\u001b[43m,\u001b[49m\u001b[43m \u001b[49m\u001b[43my_pred\u001b[49m\u001b[43m)\u001b[49m)\n",
      "File \u001b[0;32m~/Library/Python/3.9/lib/python/site-packages/sklearn/utils/_param_validation.py:216\u001b[0m, in \u001b[0;36mvalidate_params.<locals>.decorator.<locals>.wrapper\u001b[0;34m(*args, **kwargs)\u001b[0m\n\u001b[1;32m    210\u001b[0m \u001b[38;5;28;01mtry\u001b[39;00m:\n\u001b[1;32m    211\u001b[0m     \u001b[38;5;28;01mwith\u001b[39;00m config_context(\n\u001b[1;32m    212\u001b[0m         skip_parameter_validation\u001b[38;5;241m=\u001b[39m(\n\u001b[1;32m    213\u001b[0m             prefer_skip_nested_validation \u001b[38;5;129;01mor\u001b[39;00m global_skip_validation\n\u001b[1;32m    214\u001b[0m         )\n\u001b[1;32m    215\u001b[0m     ):\n\u001b[0;32m--> 216\u001b[0m         \u001b[38;5;28;01mreturn\u001b[39;00m \u001b[43mfunc\u001b[49m\u001b[43m(\u001b[49m\u001b[38;5;241;43m*\u001b[39;49m\u001b[43margs\u001b[49m\u001b[43m,\u001b[49m\u001b[43m \u001b[49m\u001b[38;5;241;43m*\u001b[39;49m\u001b[38;5;241;43m*\u001b[39;49m\u001b[43mkwargs\u001b[49m\u001b[43m)\u001b[49m\n\u001b[1;32m    217\u001b[0m \u001b[38;5;28;01mexcept\u001b[39;00m InvalidParameterError \u001b[38;5;28;01mas\u001b[39;00m e:\n\u001b[1;32m    218\u001b[0m     \u001b[38;5;66;03m# When the function is just a wrapper around an estimator, we allow\u001b[39;00m\n\u001b[1;32m    219\u001b[0m     \u001b[38;5;66;03m# the function to delegate validation to the estimator, but we replace\u001b[39;00m\n\u001b[1;32m    220\u001b[0m     \u001b[38;5;66;03m# the name of the estimator by the name of the function in the error\u001b[39;00m\n\u001b[1;32m    221\u001b[0m     \u001b[38;5;66;03m# message to avoid confusion.\u001b[39;00m\n\u001b[1;32m    222\u001b[0m     msg \u001b[38;5;241m=\u001b[39m re\u001b[38;5;241m.\u001b[39msub(\n\u001b[1;32m    223\u001b[0m         \u001b[38;5;124mr\u001b[39m\u001b[38;5;124m\"\u001b[39m\u001b[38;5;124mparameter of \u001b[39m\u001b[38;5;124m\\\u001b[39m\u001b[38;5;124mw+ must be\u001b[39m\u001b[38;5;124m\"\u001b[39m,\n\u001b[1;32m    224\u001b[0m         \u001b[38;5;124mf\u001b[39m\u001b[38;5;124m\"\u001b[39m\u001b[38;5;124mparameter of \u001b[39m\u001b[38;5;132;01m{\u001b[39;00mfunc\u001b[38;5;241m.\u001b[39m\u001b[38;5;18m__qualname__\u001b[39m\u001b[38;5;132;01m}\u001b[39;00m\u001b[38;5;124m must be\u001b[39m\u001b[38;5;124m\"\u001b[39m,\n\u001b[1;32m    225\u001b[0m         \u001b[38;5;28mstr\u001b[39m(e),\n\u001b[1;32m    226\u001b[0m     )\n",
      "File \u001b[0;32m~/Library/Python/3.9/lib/python/site-packages/sklearn/metrics/_classification.py:2671\u001b[0m, in \u001b[0;36mclassification_report\u001b[0;34m(y_true, y_pred, labels, target_names, sample_weight, digits, output_dict, zero_division)\u001b[0m\n\u001b[1;32m   2563\u001b[0m \u001b[38;5;250m\u001b[39m\u001b[38;5;124;03m\"\"\"Build a text report showing the main classification metrics.\u001b[39;00m\n\u001b[1;32m   2564\u001b[0m \n\u001b[1;32m   2565\u001b[0m \u001b[38;5;124;03mRead more in the :ref:`User Guide <classification_report>`.\u001b[39;00m\n\u001b[0;32m   (...)\u001b[0m\n\u001b[1;32m   2667\u001b[0m \u001b[38;5;124;03m<BLANKLINE>\u001b[39;00m\n\u001b[1;32m   2668\u001b[0m \u001b[38;5;124;03m\"\"\"\u001b[39;00m\n\u001b[1;32m   2670\u001b[0m y_true, y_pred \u001b[38;5;241m=\u001b[39m attach_unique(y_true, y_pred)\n\u001b[0;32m-> 2671\u001b[0m y_type, y_true, y_pred \u001b[38;5;241m=\u001b[39m \u001b[43m_check_targets\u001b[49m\u001b[43m(\u001b[49m\u001b[43my_true\u001b[49m\u001b[43m,\u001b[49m\u001b[43m \u001b[49m\u001b[43my_pred\u001b[49m\u001b[43m)\u001b[49m\n\u001b[1;32m   2673\u001b[0m \u001b[38;5;28;01mif\u001b[39;00m labels \u001b[38;5;129;01mis\u001b[39;00m \u001b[38;5;28;01mNone\u001b[39;00m:\n\u001b[1;32m   2674\u001b[0m     labels \u001b[38;5;241m=\u001b[39m unique_labels(y_true, y_pred)\n",
      "File \u001b[0;32m~/Library/Python/3.9/lib/python/site-packages/sklearn/metrics/_classification.py:107\u001b[0m, in \u001b[0;36m_check_targets\u001b[0;34m(y_true, y_pred)\u001b[0m\n\u001b[1;32m    104\u001b[0m     y_type \u001b[38;5;241m=\u001b[39m {\u001b[38;5;124m\"\u001b[39m\u001b[38;5;124mmulticlass\u001b[39m\u001b[38;5;124m\"\u001b[39m}\n\u001b[1;32m    106\u001b[0m \u001b[38;5;28;01mif\u001b[39;00m \u001b[38;5;28mlen\u001b[39m(y_type) \u001b[38;5;241m>\u001b[39m \u001b[38;5;241m1\u001b[39m:\n\u001b[0;32m--> 107\u001b[0m     \u001b[38;5;28;01mraise\u001b[39;00m \u001b[38;5;167;01mValueError\u001b[39;00m(\n\u001b[1;32m    108\u001b[0m         \u001b[38;5;124m\"\u001b[39m\u001b[38;5;124mClassification metrics can\u001b[39m\u001b[38;5;124m'\u001b[39m\u001b[38;5;124mt handle a mix of \u001b[39m\u001b[38;5;132;01m{0}\u001b[39;00m\u001b[38;5;124m and \u001b[39m\u001b[38;5;132;01m{1}\u001b[39;00m\u001b[38;5;124m targets\u001b[39m\u001b[38;5;124m\"\u001b[39m\u001b[38;5;241m.\u001b[39mformat(\n\u001b[1;32m    109\u001b[0m             type_true, type_pred\n\u001b[1;32m    110\u001b[0m         )\n\u001b[1;32m    111\u001b[0m     )\n\u001b[1;32m    113\u001b[0m \u001b[38;5;66;03m# We can't have more than one value on y_type => The set is no more needed\u001b[39;00m\n\u001b[1;32m    114\u001b[0m y_type \u001b[38;5;241m=\u001b[39m y_type\u001b[38;5;241m.\u001b[39mpop()\n",
      "\u001b[0;31mValueError\u001b[0m: Classification metrics can't handle a mix of binary and continuous targets"
     ]
    }
   ],
   "source": [
    "# Predict outcomes for the 2024-25 season\n",
    "y_pred = model.predict(scaled_val_data)\n",
    "\n",
    "# Print classification report for the validation set\n",
    "print(classification_report(validation['HOME_W'], y_pred))"
   ]
  }
 ],
 "metadata": {
  "kernelspec": {
   "display_name": "Python 3",
   "language": "python",
   "name": "python3"
  },
  "language_info": {
   "codemirror_mode": {
    "name": "ipython",
    "version": 3
   },
   "file_extension": ".py",
   "mimetype": "text/x-python",
   "name": "python",
   "nbconvert_exporter": "python",
   "pygments_lexer": "ipython3",
   "version": "3.9.6"
  }
 },
 "nbformat": 4,
 "nbformat_minor": 2
}
